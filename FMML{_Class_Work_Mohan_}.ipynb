{
  "nbformat": 4,
  "nbformat_minor": 0,
  "metadata": {
    "colab": {
      "provenance": [],
      "authorship_tag": "ABX9TyNwkKhXP08gm37wGOomyJnj",
      "include_colab_link": true
    },
    "kernelspec": {
      "name": "python3",
      "display_name": "Python 3"
    },
    "language_info": {
      "name": "python"
    }
  },
  "cells": [
    {
      "cell_type": "markdown",
      "metadata": {
        "id": "view-in-github",
        "colab_type": "text"
      },
      "source": [
        "<a href=\"https://colab.research.google.com/github/mohanveeramanikantak/FMML-Lab-Work/blob/main/FMML%7B_Class_Work_Mohan_%7D.ipynb\" target=\"_parent\"><img src=\"https://colab.research.google.com/assets/colab-badge.svg\" alt=\"Open In Colab\"/></a>"
      ]
    },
    {
      "cell_type": "code",
      "execution_count": null,
      "metadata": {
        "colab": {
          "base_uri": "https://localhost:8080/"
        },
        "id": "BWCh61jHShoZ",
        "outputId": "850c7fe2-17aa-4b28-9cef-3596333b05f8"
      },
      "outputs": [
        {
          "output_type": "stream",
          "name": "stdout",
          "text": [
            "*             *             \n",
            "*             *             \n",
            "*             *             \n",
            "* * * * * * * *             \n",
            "*             *             \n",
            "*             *             \n",
            "*             *             \n",
            "*             *             \n"
          ]
        }
      ],
      "source": [
        "\n",
        "for i in range(1,9):\n",
        "  for j in range(1,15):\n",
        "    if j==1 or j==8 or (i==4 and j in range(2,8)):\n",
        "      print(\"*\",end=\" \")\n",
        "    else:\n",
        "      print(\" \",end=\" \")\n",
        "  print()"
      ]
    },
    {
      "cell_type": "code",
      "source": [
        " for i in range(1,5):\n",
        "     for j in range(1,5):\n",
        "         if i==1 or i==4 or j==1 or j==4:\n",
        "             print(\"*\",end=\" \")\n",
        "         else:\n",
        "            print(\" \",end=\" \")\n",
        "     print()"
      ],
      "metadata": {
        "colab": {
          "base_uri": "https://localhost:8080/"
        },
        "id": "GeoSeYxYePt9",
        "outputId": "2ce5e135-62b3-4fa4-90fd-6387f3d76e64"
      },
      "execution_count": null,
      "outputs": [
        {
          "output_type": "stream",
          "name": "stdout",
          "text": [
            "* * * * \n",
            "*     * \n",
            "*     * \n",
            "* * * * \n"
          ]
        }
      ]
    },
    {
      "cell_type": "code",
      "source": [
        "for i in range(1,10):\n",
        "  for j in range(1,10):\n",
        "    if i>=j:\n",
        "      print(\"Mohan\",end=\" \")\n",
        "    else:\n",
        "      print(\" \",end=\" \")\n",
        "  print()"
      ],
      "metadata": {
        "colab": {
          "base_uri": "https://localhost:8080/"
        },
        "id": "wgJ0GlEFexiy",
        "outputId": "acf89222-9fde-4742-842c-19b40a002e5e"
      },
      "execution_count": null,
      "outputs": [
        {
          "output_type": "stream",
          "name": "stdout",
          "text": [
            "Mohan                 \n",
            "Mohan Mohan               \n",
            "Mohan Mohan Mohan             \n",
            "Mohan Mohan Mohan Mohan           \n",
            "Mohan Mohan Mohan Mohan Mohan         \n",
            "Mohan Mohan Mohan Mohan Mohan Mohan       \n",
            "Mohan Mohan Mohan Mohan Mohan Mohan Mohan     \n",
            "Mohan Mohan Mohan Mohan Mohan Mohan Mohan Mohan   \n",
            "Mohan Mohan Mohan Mohan Mohan Mohan Mohan Mohan Mohan \n"
          ]
        }
      ]
    },
    {
      "cell_type": "code",
      "source": [
        "for i in range(1,6):\n",
        "  for j in range(1,i+1):\n",
        "    print(j,end=\" \")\n",
        "  print()\n"
      ],
      "metadata": {
        "colab": {
          "base_uri": "https://localhost:8080/"
        },
        "id": "qeSTUukMg2Wg",
        "outputId": "b4da1f27-f88a-4c9b-c7e3-02557d2fff8e"
      },
      "execution_count": null,
      "outputs": [
        {
          "output_type": "stream",
          "name": "stdout",
          "text": [
            "1 \n",
            "1 2 \n",
            "1 2 3 \n",
            "1 2 3 4 \n",
            "1 2 3 4 5 \n"
          ]
        }
      ]
    },
    {
      "cell_type": "code",
      "source": [
        "string = \"ABCDEFGHIJKMLNOPQRSTUVWXYZ\"\n",
        "for i in range(0,len(string)):\n",
        "  for j in range(0,i+1):\n",
        "    print(string[j],end=\" \")\n",
        "  print()\n"
      ],
      "metadata": {
        "colab": {
          "base_uri": "https://localhost:8080/"
        },
        "id": "RivcbWtvhUAq",
        "outputId": "bb023f39-ee38-4193-d117-f7319671434f"
      },
      "execution_count": null,
      "outputs": [
        {
          "output_type": "stream",
          "name": "stdout",
          "text": [
            "A \n",
            "A B \n",
            "A B C \n",
            "A B C D \n",
            "A B C D E \n",
            "A B C D E F \n",
            "A B C D E F G \n",
            "A B C D E F G H \n",
            "A B C D E F G H I \n",
            "A B C D E F G H I J \n",
            "A B C D E F G H I J K \n",
            "A B C D E F G H I J K M \n",
            "A B C D E F G H I J K M L \n",
            "A B C D E F G H I J K M L N \n",
            "A B C D E F G H I J K M L N O \n",
            "A B C D E F G H I J K M L N O P \n",
            "A B C D E F G H I J K M L N O P Q \n",
            "A B C D E F G H I J K M L N O P Q R \n",
            "A B C D E F G H I J K M L N O P Q R S \n",
            "A B C D E F G H I J K M L N O P Q R S T \n",
            "A B C D E F G H I J K M L N O P Q R S T U \n",
            "A B C D E F G H I J K M L N O P Q R S T U V \n",
            "A B C D E F G H I J K M L N O P Q R S T U V W \n",
            "A B C D E F G H I J K M L N O P Q R S T U V W X \n",
            "A B C D E F G H I J K M L N O P Q R S T U V W X Y \n",
            "A B C D E F G H I J K M L N O P Q R S T U V W X Y Z \n"
          ]
        }
      ]
    },
    {
      "cell_type": "code",
      "source": [
        "string = \"MOHAN\"\n",
        "for i in range(0,len(string)):\n",
        "  for j in range(0,i+1):\n",
        "    print(string[j],end=\" \")\n",
        "  print()\n"
      ],
      "metadata": {
        "colab": {
          "base_uri": "https://localhost:8080/"
        },
        "id": "MYiQJaSChv2P",
        "outputId": "b2ffe56d-1707-4032-8345-57841717066e"
      },
      "execution_count": null,
      "outputs": [
        {
          "output_type": "stream",
          "name": "stdout",
          "text": [
            "M \n",
            "M O \n",
            "M O H \n",
            "M O H A \n",
            "M O H A N \n"
          ]
        }
      ]
    },
    {
      "cell_type": "code",
      "source": [
        "for i in range(0,2):\n",
        "  for j in range(6):\n",
        "    print(j,end=\" \")\n",
        "  print()\n"
      ],
      "metadata": {
        "colab": {
          "base_uri": "https://localhost:8080/"
        },
        "id": "AO2jBlJVipqt",
        "outputId": "72c7c844-5745-4980-b408-7bcfb8d59584"
      },
      "execution_count": null,
      "outputs": [
        {
          "output_type": "stream",
          "name": "stdout",
          "text": [
            "0 1 2 3 4 5 \n",
            "0 1 2 3 4 5 \n"
          ]
        }
      ]
    },
    {
      "cell_type": "code",
      "source": [
        "for i in range(1, 6):\n",
        "  for j in range(0, 4):\n",
        "    print(i + j * 5, end=\" \")\n",
        "  print()\n"
      ],
      "metadata": {
        "colab": {
          "base_uri": "https://localhost:8080/"
        },
        "id": "mDy9q2kuj4Le",
        "outputId": "247e54e8-14f2-4814-eb62-4f77b3d976bf"
      },
      "execution_count": null,
      "outputs": [
        {
          "output_type": "stream",
          "name": "stdout",
          "text": [
            "1 6 11 16 \n",
            "2 7 12 17 \n",
            "3 8 13 18 \n",
            "4 9 14 19 \n",
            "5 10 15 20 \n"
          ]
        }
      ]
    },
    {
      "cell_type": "code",
      "source": [
        "for i in range(1,10):\n",
        "  for j in range(1,10):\n",
        "    if i>=j:\n",
        "      print(\"Charn Loves \",end=\" \")\n",
        "    else:\n",
        "      print(\" \",end=\" \")\n",
        "  print()"
      ],
      "metadata": {
        "id": "0SLk7QNxk-DW"
      },
      "execution_count": null,
      "outputs": []
    },
    {
      "cell_type": "markdown",
      "source": [],
      "metadata": {
        "id": "1OUEpFKWwY_T"
      }
    },
    {
      "cell_type": "code",
      "source": [
        "LX = int(input())\n",
        "\n",
        "if X > 35:\n",
        "    print(\"YES\")\n",
        "else:\n",
        "    print(\"NO\")"
      ],
      "metadata": {
        "colab": {
          "base_uri": "https://localhost:8080/"
        },
        "id": "s7_TsmCewZZu",
        "outputId": "05985b1e-f1cf-4b60-c25f-9ebd5e34af00"
      },
      "execution_count": null,
      "outputs": [
        {
          "output_type": "stream",
          "name": "stdout",
          "text": [
            "56\n",
            "YES\n"
          ]
        }
      ]
    },
    {
      "cell_type": "code",
      "source": [],
      "metadata": {
        "id": "ovOo6TUH-DDj"
      },
      "execution_count": null,
      "outputs": []
    }
  ]
}